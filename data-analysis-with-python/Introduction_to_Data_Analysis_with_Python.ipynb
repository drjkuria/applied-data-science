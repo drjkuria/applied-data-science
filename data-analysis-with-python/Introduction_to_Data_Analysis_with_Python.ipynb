{
 "cells": [
  {
   "cell_type": "markdown",
   "metadata": {},
   "source": [
    "# Introduction to Data Analysis with Python\n",
    "\n",
    "This notebook provides a hands-on introduction to data analysis with *Python 3* using the associated libraries.\n",
    "\n",
    "In particular, the following topics are covered using an example around estimating used car prices:\n",
    "- A problem requiring data analysis\n",
    "- A dataset to be analyzed in Python\n",
    "- Overview of Python packages for data analysis\n",
    "- Importing and Exporting data in Python"
   ]
  },
  {
   "cell_type": "code",
   "execution_count": null,
   "metadata": {},
   "outputs": [],
   "source": []
  }
 ],
 "metadata": {
  "kernelspec": {
   "display_name": "Python 3",
   "language": "python",
   "name": "python3"
  },
  "language_info": {
   "codemirror_mode": {
    "name": "ipython",
    "version": 3
   },
   "file_extension": ".py",
   "mimetype": "text/x-python",
   "name": "python",
   "nbconvert_exporter": "python",
   "pygments_lexer": "ipython3",
   "version": "3.7.3"
  }
 },
 "nbformat": 4,
 "nbformat_minor": 2
}
